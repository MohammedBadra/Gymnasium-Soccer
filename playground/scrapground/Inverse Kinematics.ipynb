{
 "cells": [
  {
   "cell_type": "code",
   "execution_count": null,
   "metadata": {},
   "outputs": [],
   "source": [
    "import numpy as np\n",
    "\n",
    "class QuadrupedLeg:\n",
    "    def __init__(self, leg_id, abad_link_length, hip_link_length, knee_link_length, pHip2B):\n",
    "        self.abad_link_length = abad_link_length\n",
    "        self.hip_link_length = hip_link_length\n",
    "        self.knee_link_length = knee_link_length\n",
    "        self.pHip2B = np.array(pHip2B)\n",
    "        self.side_sign = -1 if leg_id in [0, 2] else 1\n",
    "    \n",
    "    def calc_pee2h(self, q):\n",
    "        l1 = self.side_sign * self.abad_link_length\n",
    "        l2 = -self.hip_link_length\n",
    "        l3 = -self.knee_link_length\n",
    "        \n",
    "        s1, s2, s3 = np.sin(q)\n",
    "        c1, c2, c3 = np.cos(q)\n",
    "        \n",
    "        c23 = c2 * c3 - s2 * s3\n",
    "        s23 = s2 * c3 + c2 * s3\n",
    "        \n",
    "        return np.array([\n",
    "            l3 * s23 + l2 * s2,\n",
    "            -l3 * s1 * c23 + l1 * c1 - l2 * c2 * s1,\n",
    "            l3 * c1 * c23 + l1 * s1 + l2 * c1 * c2\n",
    "        ])\n",
    "    \n",
    "    def calc_pee2b(self, q):\n",
    "        return self.pHip2B + self.calc_pee2h(q)\n",
    "\n",
    "# Example instantiation for an A1 robot leg (front right leg)\n",
    "a1_leg = QuadrupedLeg(leg_id=0, abad_link_length=0.0838, hip_link_length=0.2, knee_link_length=0.2, pHip2B=[0.1805, -0.047, 0])\n",
    "q = np.array([np.pi/6, np.pi/4, np.pi/3])  # Example joint angles\n",
    "\n",
    "# Calculate the position of the end effector\n",
    "end_effector_position = a1_leg.calc_pee2b(q)\n",
    "print(\"End Effector Position:\", end_effector_position)"
   ]
  }
 ],
 "metadata": {
  "language_info": {
   "name": "python"
  }
 },
 "nbformat": 4,
 "nbformat_minor": 2
}
